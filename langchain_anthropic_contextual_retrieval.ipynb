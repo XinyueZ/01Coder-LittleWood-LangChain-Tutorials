{
  "nbformat": 4,
  "nbformat_minor": 0,
  "metadata": {
    "colab": {
      "provenance": [],
      "authorship_tag": "ABX9TyP1xVzPKtQ/ikhNDVcNJ+gi",
      "include_colab_link": true
    },
    "kernelspec": {
      "name": "python3",
      "display_name": "Python 3"
    },
    "language_info": {
      "name": "python"
    }
  },
  "cells": [
    {
      "cell_type": "markdown",
      "metadata": {
        "id": "view-in-github",
        "colab_type": "text"
      },
      "source": [
        "<a href=\"https://colab.research.google.com/github/sugarforever/LangChain-Tutorials/blob/main/langchain_anthropic_contextual_retrieval.ipynb\" target=\"_parent\"><img src=\"https://colab.research.google.com/assets/colab-badge.svg\" alt=\"Open In Colab\"/></a>"
      ]
    },
    {
      "cell_type": "code",
      "execution_count": 25,
      "metadata": {
        "id": "qAs7k2lpcACN"
      },
      "outputs": [],
      "source": [
        "!pip install -qU langchain langchain-community langchain_chroma langchain_openai langchain_cohere langchain-text-splitters pypdf chromadb"
      ]
    },
    {
      "cell_type": "code",
      "source": [
        "from langchain_community.document_loaders import PyPDFLoader\n",
        "from langchain_community.vectorstores import Chroma\n",
        "from langchain_text_splitters import RecursiveCharacterTextSplitter\n",
        "\n",
        "text_splitter = RecursiveCharacterTextSplitter(\n",
        "    chunk_size=3000,\n",
        "    chunk_overlap=200,\n",
        "    length_function=len,\n",
        "    is_separator_regex=False,\n",
        ")\n",
        "\n",
        "loader = PyPDFLoader(\"nio-q2-2024.pdf\")\n",
        "split_documents = loader.load_and_split(text_splitter=text_splitter)"
      ],
      "metadata": {
        "id": "UQECRwuxechG"
      },
      "execution_count": 35,
      "outputs": []
    },
    {
      "cell_type": "code",
      "source": [
        "len(split_documents)"
      ],
      "metadata": {
        "colab": {
          "base_uri": "https://localhost:8080/"
        },
        "id": "7WkUrhP8f0u7",
        "outputId": "c785f94d-f59c-44e8-9d65-748edd51f94a"
      },
      "execution_count": 36,
      "outputs": [
        {
          "output_type": "execute_result",
          "data": {
            "text/plain": [
              "21"
            ]
          },
          "metadata": {},
          "execution_count": 36
        }
      ]
    },
    {
      "cell_type": "code",
      "source": [
        "DOCUMENT_CONTEXT_PROMPT = \"\"\"\n",
        "<document>\n",
        "{doc_content}\n",
        "</document>\n",
        "\"\"\"\n",
        "\n",
        "CHUNK_CONTEXT_PROMPT = \"\"\"\n",
        "Here is the chunk we want to situate within the whole document\n",
        "<chunk>\n",
        "{chunk_content}\n",
        "</chunk>\n",
        "\n",
        "Please give a short succinct context to situate this chunk within the overall document for the purposes of improving search retrieval of the chunk.\n",
        "Answer only with the succinct context and nothing else.\n",
        "\"\"\""
      ],
      "metadata": {
        "id": "Yc-VIH_djyhN"
      },
      "execution_count": 28,
      "outputs": []
    },
    {
      "cell_type": "code",
      "source": [
        "from langchain_core.prompts import PromptTemplate"
      ],
      "metadata": {
        "id": "60jsW7iEh0uR"
      },
      "execution_count": 29,
      "outputs": []
    },
    {
      "cell_type": "code",
      "source": [
        "# from langchain_anthropic import ChatAnthropic\n",
        "from langchain_openai import ChatOpenAI\n",
        "from langchain_core.messages import (\n",
        "    AIMessage,\n",
        "    HumanMessage,\n",
        "    SystemMessage,\n",
        "    merge_message_runs,\n",
        ")"
      ],
      "metadata": {
        "id": "mejwjNDAi1hU"
      },
      "execution_count": 30,
      "outputs": []
    },
    {
      "cell_type": "code",
      "source": [
        "from google.colab import userdata\n",
        "OPENROUTER_API_KEY = userdata.get('OPENROUTER_API_KEY')"
      ],
      "metadata": {
        "id": "JNcu39qvlhip"
      },
      "execution_count": 31,
      "outputs": []
    },
    {
      "cell_type": "code",
      "source": [
        "anthropic_llm = ChatOpenAI(\n",
        "    base_url=\"https://openrouter.ai/api/v1\",\n",
        "    api_key=OPENROUTER_API_KEY,\n",
        "    model=\"anthropic/claude-3-haiku\",\n",
        "    max_tokens=1024,\n",
        "    temperature=0,\n",
        "    default_headers={\"anthropic-beta\": \"prompt-caching-2024-07-31\"}\n",
        ")"
      ],
      "metadata": {
        "id": "E_EUlo88V24l"
      },
      "execution_count": 32,
      "outputs": []
    },
    {
      "cell_type": "code",
      "source": [
        "def process_documents(split_documents):\n",
        "    all_content_in_batch = \"\\n\".join([doc.page_content for doc in split_documents])\n",
        "\n",
        "    # Create the system message\n",
        "    system_message = SystemMessage([\n",
        "        {\"type\": \"text\", \"text\": DOCUMENT_CONTEXT_PROMPT.format(doc_content=all_content_in_batch), \"cache_control\": {\"type\": \"ephemeral\"}}\n",
        "    ])\n",
        "\n",
        "    for current_doc in split_documents:\n",
        "        messages = [\n",
        "            system_message,\n",
        "            HumanMessage([\n",
        "                {\"type\": \"text\", \"text\": CHUNK_CONTEXT_PROMPT.format(chunk_content=current_doc.page_content)}\n",
        "            ])\n",
        "        ]\n",
        "\n",
        "        # Invoke the LLM\n",
        "        response = anthropic_llm.invoke(messages)\n",
        "        print(response.content)\n",
        "\n",
        "        # Update the document's content\n",
        "        current_doc.page_content = response.content + \"\\n\\n\" + current_doc.page_content"
      ],
      "metadata": {
        "id": "Sz2jS7P9aLXV"
      },
      "execution_count": 33,
      "outputs": []
    },
    {
      "cell_type": "code",
      "source": [
        "# Usage\n",
        "process_documents(split_documents)"
      ],
      "metadata": {
        "colab": {
          "base_uri": "https://localhost:8080/"
        },
        "id": "11BTuF-PblzZ",
        "outputId": "406e81e4-4cf9-4d66-8904-4c145029890d"
      },
      "execution_count": 37,
      "outputs": [
        {
          "output_type": "stream",
          "name": "stdout",
          "text": [
            "This chunk provides the key highlights of NIO Inc.'s unaudited financial results for the second quarter of 2024, including details on vehicle deliveries, revenue, gross profit, and net loss.\n",
            "This chunk provides key financial results for NIO Inc. in the second quarter of 2024, including vehicle sales, vehicle margin, and cash and cash equivalents. It is part of the larger earnings report that discusses NIO's quarterly performance and business outlook.\n",
            "This chunk provides key financial highlights and recent business developments for NIO Inc. in the second quarter of 2024, including record-breaking vehicle deliveries, strong financial performance, and the launch of the ONVO brand.\n",
            "This chunk discusses NIO's financial results for the second quarter of 2024, including commentary from the CEO and CFO on the company's performance and outlook.\n",
            "This chunk discusses the company's vehicle sales, other sales, cost of sales, gross profit, gross margin, and vehicle margin in the second quarter of 2024, as well as the changes compared to the previous quarter and the same quarter of the previous year.\n",
            "This chunk discusses NIO's operating expenses, particularly research and development expenses and selling, general and administrative expenses, as well as its loss from operations in the second quarter of 2024.\n",
            "This chunk discusses the net loss, earnings per share/ADS, and business outlook for NIO Inc. in the second quarter of 2024, as part of the company's unaudited financial results for that period.\n",
            "This chunk provides information about how to access the conference call for NIO Inc.'s earnings report, including dial-in numbers, passcode, and replay details.\n",
            "This chunk provides an overview of NIO's mission, vision, and key business activities, as well as a forward-looking statement disclaimer, within the larger financial results report.\n",
            "This chunk discusses NIO's use of non-GAAP financial measures and how they are defined and used by the company to evaluate its operating results and financial and operational decision-making.\n",
            "This chunk is part of the \"Non-GAAP Disclosure\" section of the NIO Inc. Q2 2024 earnings report, which explains the limitations of the non-GAAP financial measures used in the report and how the company reconciles them to the most comparable GAAP measures.\n",
            "This chunk is the \"Unaudited Reconciliation of GAAP and Non-GAAP Results\" section of the NIO Inc. Q2 2024 earnings report, which provides a reconciliation of the company's GAAP and non-GAAP financial measures.\n",
            "This chunk is from the Unaudited Condensed Consolidated Balance Sheets section of the NIO Inc. Q2 2024 financial results report.\n",
            "This chunk is part of the Unaudited Condensed Consolidated Balance Sheets section of the NIO Inc. Q2 2024 financial results report. It provides details on the company's non-current liabilities, mezzanine equity, and shareholders' equity as of June 30, 2024.\n",
            "This chunk is part of the \"Net Loss and Earnings Per Share/ADS\" section of the financial results for NIO Inc. in the second quarter of 2024.\n",
            "This chunk contains financial information related to NIO Inc.'s net loss, other comprehensive income, and net loss per share/ADS for the second quarter and first half of 2024, as well as the weighted average number of ordinary shares/ADS used in computing the net loss per share/ADS.\n",
            "This chunk is part of the Unaudited Condensed Consolidated Statements of Comprehensive Loss section of the NIO Inc. Q2 2024 financial results report. It covers the company's financial performance metrics for the six-month period ended June 30, 2024.\n",
            "This chunk is part of the \"Unaudited Condensed Consolidated Statements of Comprehensive Loss\" and \"Unaudited Reconciliation of GAAP and Non-GAAP Results\" sections of the NIO Inc. Q2 2024 financial results report.\n",
            "This chunk is from the unaudited condensed consolidated statements of comprehensive loss for the three months ended March 31, 2024, showing the net loss attributable to ordinary shareholders of NIO Inc. and the corresponding net loss per share/ADS.\n",
            "This chunk provides a reconciliation of GAAP and non-GAAP financial results for NIO Inc. over different time periods, including the three months ended June 30, 2023 and the six months ended June 30, 2024.\n",
            "This chunk provides important context and definitions for the financial metrics and data presented in the NIO Inc. earnings report.\n"
          ]
        }
      ]
    },
    {
      "cell_type": "code",
      "source": [
        "split_documents[0].page_content"
      ],
      "metadata": {
        "colab": {
          "base_uri": "https://localhost:8080/",
          "height": 146
        },
        "id": "9j-75dEiWNmb",
        "outputId": "c2d61f0f-17ba-4096-973c-81f045874204"
      },
      "execution_count": 38,
      "outputs": [
        {
          "output_type": "execute_result",
          "data": {
            "text/plain": [
              "\"This chunk provides the key highlights of NIO Inc.'s unaudited financial results for the second quarter of 2024, including details on vehicle deliveries, revenue, gross profit, and net loss.\\n\\nNIO Inc. Reports Unaudited Second Quarter 2024 Financial Results\\n09/5/2024\\nQuarterly Total Revenues reached RMB17,446.0 million (US$2,400.6 million)i\\nQuarterly Vehicle Deliveries were 57,373 units\\nSHANGHAI, Sept. 05, 2024 (GLOBE NEWSWIRE) -- NIO Inc. (NYSE: NIO; HKEX: 9866; SGX: NIO) (“NIO” or the “Company”), a\\npioneer and a leading company in the global smart electric vehicle market, today announced its unaudited financial results for the\\nsecond quarter ended June 30, 2024.\\nOperating Highlights for the Second Quarter of 2024\\nVehicle deliveries  were 57,373 in the second quarter of 2024, consisting of 32,562 premium smart electric SUVs and\\n24,811 premium smart electric sedans, representing an increase of 143.9% from the second quarter of 2023, and an\\nincrease of 90.9% from the first quarter of 2024.\\nKey Operating Results \\xa0\\n\\xa0 2024 Q2 2024 Q1 2023 Q4 2023 Q3\\nDeliveries 57,373 30,053 50,045 55,432\\n\\xa0 \\xa0 \\xa0 \\xa0 \\xa0\\n\\xa0 2023 Q2 2023 Q1 2022 Q4 2022 Q3\\nDeliveries 23,520 31,041 40,052 31,607\\n\\xa0 \\xa0 \\xa0 \\xa0 \\xa0\\nFinancial Highlights for the Second Quarter of 2024\\nVehicle sales  were RMB15,679.6 million (US$2,157.6 million) in the second quarter of 2024, representing an increase of\\n118.2% from the second quarter of 2023 and an increase of 87.1% from the first quarter of 2024.\\nVehicle marginii was 12.2% in the second quarter of 2024, compared with 6.2% in the second quarter of 2023 and 9.2%\\nin the first quarter of 2024.\\nTotal revenues  were RMB17,446.0 million (US$2,400.6 million) in the second quarter of 2024, representing an increase of\\n98.9% from the second quarter of 2023 and an increase of 76.1% from the first quarter of 2024.\\nGross profit was RMB1,688.7 million (US$232.4 million) in the second quarter of 2024, representing an increase of\\n1,841.0% from the second quarter of 2023 and an increase of 246.3% from the first quarter of 2024.\\nGross margin was 9.7% in the second quarter of 2024, compared with 1.0% in the second quarter of 2023 and 4.9% in\\nthe first quarter of 2024.\\nLoss from operations  was RMB5,209.3 million (US$716.8 million) in the second quarter of 2024, representing a decrease\\nof 14.2% from the second quarter of 2023 and a decrease of 3.4% from the first quarter of 2024. Excluding share-based\\ncompensation expenses, adjusted loss from operations (non-GAAP) was RMB4,698.5 million (US$646.5 million) in the\\nsecond quarter of 2024, representing a decrease of 14.0% from the second quarter of 2023 and a decrease of 8.1% from\\nthe first quarter of 2024.\\nNet loss was RMB5,046.0 million (US$694.4 million) in the second quarter of 2024, representing a decrease of 16.7%\\nfrom the second quarter of 2023 and a decrease of 2.7% from the first quarter of 2024. Excluding share-based\\ncompensation expenses, adjusted net loss (non-GAAP) was RMB4,535.2 million (US$624.1 million) in the second quarter\\nof 2024, representing a decrease of 16.7% from the second quarter of 2023 and a decrease of 7.5% from the first quarter\\nof 2024.\""
            ],
            "application/vnd.google.colaboratory.intrinsic+json": {
              "type": "string"
            }
          },
          "metadata": {},
          "execution_count": 38
        }
      ]
    },
    {
      "cell_type": "code",
      "source": [
        "from langchain_chroma import Chroma\n",
        "from langchain_openai import OpenAIEmbeddings\n",
        "\n",
        "vectorstore = Chroma.from_documents(\n",
        "    split_documents,\n",
        "    embedding=OpenAIEmbeddings(\n",
        "        openai_api_key=userdata.get('OPENAI_API_KEY'),\n",
        "        model=\"text-embedding-3-large\"\n",
        "    )\n",
        ")"
      ],
      "metadata": {
        "id": "A2RamFANWFDm"
      },
      "execution_count": 39,
      "outputs": []
    },
    {
      "cell_type": "code",
      "source": [
        "retriever = vectorstore.as_retriever()"
      ],
      "metadata": {
        "id": "M0vKXO0Mhhia"
      },
      "execution_count": 40,
      "outputs": []
    },
    {
      "cell_type": "code",
      "source": [
        "from langchain_cohere import CohereRerank\n",
        "from langchain.retrievers.contextual_compression import ContextualCompressionRetriever"
      ],
      "metadata": {
        "id": "o3FUM1TZjh9L"
      },
      "execution_count": 42,
      "outputs": []
    },
    {
      "cell_type": "code",
      "source": [
        "compressor = CohereRerank(\n",
        "    model=\"rerank-english-v3.0\",\n",
        "    cohere_api_key=userdata.get('COHERE_API_KEY')\n",
        ")\n",
        "compression_retriever = ContextualCompressionRetriever(\n",
        "    base_compressor=compressor, base_retriever=retriever\n",
        ")"
      ],
      "metadata": {
        "id": "OIQ6aKORhdrQ"
      },
      "execution_count": 44,
      "outputs": []
    },
    {
      "cell_type": "code",
      "source": [
        "from langchain import hub\n",
        "from langchain_core.runnables import RunnablePassthrough\n",
        "from langchain_core.output_parsers import StrOutputParser"
      ],
      "metadata": {
        "id": "tJf7AdRKXhwr"
      },
      "execution_count": 45,
      "outputs": []
    },
    {
      "cell_type": "code",
      "source": [
        "prompt = hub.pull(\"rlm/rag-prompt\")\n",
        "\n",
        "\n",
        "def format_docs(docs):\n",
        "    return \"\\n\\n\".join(doc.page_content for doc in docs)\n",
        "\n",
        "\n",
        "rag_chain = (\n",
        "    {\"context\": compression_retriever | format_docs, \"question\": RunnablePassthrough()}\n",
        "    | prompt\n",
        "    | anthropic_llm\n",
        "    | StrOutputParser()\n",
        ")"
      ],
      "metadata": {
        "colab": {
          "base_uri": "https://localhost:8080/"
        },
        "id": "jsrKFUqjXeUt",
        "outputId": "1be4c66d-2391-49e9-8f51-154eb5b8e5ff"
      },
      "execution_count": 46,
      "outputs": [
        {
          "output_type": "stream",
          "name": "stderr",
          "text": [
            "/usr/local/lib/python3.10/dist-packages/langsmith/client.py:323: LangSmithMissingAPIKeyWarning: API key must be provided when using hosted LangSmith API\n",
            "  warnings.warn(\n"
          ]
        }
      ]
    },
    {
      "cell_type": "code",
      "source": [
        "rag_chain.invoke(\"What is the vehicle sales?\")"
      ],
      "metadata": {
        "colab": {
          "base_uri": "https://localhost:8080/",
          "height": 54
        },
        "id": "x68n2WXdkCLB",
        "outputId": "f7b490c1-378d-4b61-e781-c42d0ff42a0a"
      },
      "execution_count": 49,
      "outputs": [
        {
          "output_type": "execute_result",
          "data": {
            "text/plain": [
              "'Based on the provided context, the vehicle sales for NIO Inc. in the second quarter of 2024 were RMB15,679.6 million, representing an increase of 87.1% from the first quarter of 2024 and an increase of 118.2% from the second quarter of 2023.'"
            ],
            "application/vnd.google.colaboratory.intrinsic+json": {
              "type": "string"
            }
          },
          "metadata": {},
          "execution_count": 49
        }
      ]
    }
  ]
}